{
 "cells": [
  {
   "cell_type": "markdown",
   "metadata": {},
   "source": [
    "# Exploring Score-based  Patient matching\n",
    "This notebook introduces key concepts of patient matching while demonstrating those concepts using python"
   ]
  },
  {
   "cell_type": "markdown",
   "metadata": {},
   "source": [
    "*********************"
   ]
  },
  {
   "cell_type": "markdown",
   "metadata": {},
   "source": [
    "## About this notebook"
   ]
  },
  {
   "cell_type": "markdown",
   "metadata": {},
   "source": [
    "This notebook follows  step by step the record linkage process , providing minimum exaplanation and assuming certain knowledge of the process. Our aim is to compare different score-based matching strategies using synthetic  data.\n",
    "For more detailed information, please consult the reference section"
   ]
  },
  {
   "cell_type": "code",
   "execution_count": 37,
   "metadata": {},
   "outputs": [],
   "source": [
    "import recordlinkage  as rl\n",
    "import numpy as np\n",
    "import pandas as pd\n",
    "import warnings\n",
    "from recordlinkage.index import Block\n",
    "from recordlinkage.datasets import load_febrl4,load_febrl3,load_febrl2,load_febrl1\n",
    "from recordlinkage.preprocessing import phonetic,clean\n",
    "\n",
    "import matplotlib as mlp\n",
    "import matplotlib.pyplot as plt\n",
    "warnings.filterwarnings('ignore')"
   ]
  },
  {
   "cell_type": "markdown",
   "metadata": {},
   "source": [
    "#### Get version information"
   ]
  },
  {
   "cell_type": "code",
   "execution_count": 38,
   "metadata": {},
   "outputs": [
    {
     "name": "stdout",
     "output_type": "stream",
     "text": [
      "Pandas version: 1.5.3 \n",
      "\n",
      "Python Record Linkage version: 0.15 \n",
      "\n",
      "Numpy version: 1.20.3 \n",
      "\n"
     ]
    }
   ],
   "source": [
    "# Get Version information\n",
    "print(\"Pandas version: {0}\".format(pd.__version__),'\\n')\n",
    "print(\"Python Record Linkage version: {0}\".format(rl._version.get_versions()['version']),'\\n')\n",
    "print(\"Numpy version: {0}\".format(np.__version__),'\\n')"
   ]
  },
  {
   "cell_type": "markdown",
   "metadata": {},
   "source": [
    "## Importing dataset to deduplicate"
   ]
  },
  {
   "cell_type": "code",
   "execution_count": 24,
   "metadata": {},
   "outputs": [
    {
     "name": "stdout",
     "output_type": "stream",
     "text": [
      "Total number of records: 5000\n"
     ]
    },
    {
     "data": {
      "text/html": [
       "<div>\n",
       "<style scoped>\n",
       "    .dataframe tbody tr th:only-of-type {\n",
       "        vertical-align: middle;\n",
       "    }\n",
       "\n",
       "    .dataframe tbody tr th {\n",
       "        vertical-align: top;\n",
       "    }\n",
       "\n",
       "    .dataframe thead th {\n",
       "        text-align: right;\n",
       "    }\n",
       "</style>\n",
       "<table border=\"1\" class=\"dataframe\">\n",
       "  <thead>\n",
       "    <tr style=\"text-align: right;\">\n",
       "      <th></th>\n",
       "      <th>given_name</th>\n",
       "      <th>surname</th>\n",
       "      <th>address_1</th>\n",
       "      <th>address_2</th>\n",
       "      <th>suburb</th>\n",
       "      <th>postcode</th>\n",
       "      <th>state</th>\n",
       "      <th>date_of_birth</th>\n",
       "      <th>soc_sec_id</th>\n",
       "    </tr>\n",
       "    <tr>\n",
       "      <th>rec_id</th>\n",
       "      <th></th>\n",
       "      <th></th>\n",
       "      <th></th>\n",
       "      <th></th>\n",
       "      <th></th>\n",
       "      <th></th>\n",
       "      <th></th>\n",
       "      <th></th>\n",
       "      <th></th>\n",
       "    </tr>\n",
       "  </thead>\n",
       "  <tbody>\n",
       "    <tr>\n",
       "      <th>rec-1496-org</th>\n",
       "      <td>mitchell</td>\n",
       "      <td>green</td>\n",
       "      <td>wallaby place</td>\n",
       "      <td>delmar</td>\n",
       "      <td>cleveland</td>\n",
       "      <td>2119</td>\n",
       "      <td>sa</td>\n",
       "      <td>19560409</td>\n",
       "      <td>1804974</td>\n",
       "    </tr>\n",
       "    <tr>\n",
       "      <th>rec-552-dup-3</th>\n",
       "      <td>harley</td>\n",
       "      <td>mccarthy</td>\n",
       "      <td>pridhamstreet</td>\n",
       "      <td>milton</td>\n",
       "      <td>marsden</td>\n",
       "      <td>3165</td>\n",
       "      <td>nsw</td>\n",
       "      <td>19080419</td>\n",
       "      <td>6089216</td>\n",
       "    </tr>\n",
       "    <tr>\n",
       "      <th>rec-988-dup-1</th>\n",
       "      <td>madeline</td>\n",
       "      <td>mason</td>\n",
       "      <td>hoseason street</td>\n",
       "      <td>lakefront retrmnt vlge</td>\n",
       "      <td>granville</td>\n",
       "      <td>4881</td>\n",
       "      <td>nsw</td>\n",
       "      <td>19081128</td>\n",
       "      <td>2185997</td>\n",
       "    </tr>\n",
       "    <tr>\n",
       "      <th>rec-1716-dup-1</th>\n",
       "      <td>isabelle</td>\n",
       "      <td>NaN</td>\n",
       "      <td>gundulu place</td>\n",
       "      <td>currin ga</td>\n",
       "      <td>utakarra</td>\n",
       "      <td>2193</td>\n",
       "      <td>wa</td>\n",
       "      <td>19921119</td>\n",
       "      <td>4314184</td>\n",
       "    </tr>\n",
       "    <tr>\n",
       "      <th>rec-1213-org</th>\n",
       "      <td>taylor</td>\n",
       "      <td>hathaway</td>\n",
       "      <td>yuranigh court</td>\n",
       "      <td>brentwood vlge</td>\n",
       "      <td>NaN</td>\n",
       "      <td>4220</td>\n",
       "      <td>nsw</td>\n",
       "      <td>19991207</td>\n",
       "      <td>9144092</td>\n",
       "    </tr>\n",
       "  </tbody>\n",
       "</table>\n",
       "</div>"
      ],
      "text/plain": [
       "               given_name   surname        address_1               address_2  \\\n",
       "rec_id                                                                         \n",
       "rec-1496-org     mitchell     green    wallaby place                  delmar   \n",
       "rec-552-dup-3      harley  mccarthy    pridhamstreet                  milton   \n",
       "rec-988-dup-1    madeline     mason  hoseason street  lakefront retrmnt vlge   \n",
       "rec-1716-dup-1   isabelle       NaN    gundulu place               currin ga   \n",
       "rec-1213-org       taylor  hathaway   yuranigh court          brentwood vlge   \n",
       "\n",
       "                   suburb  postcode state date_of_birth  soc_sec_id  \n",
       "rec_id                                                               \n",
       "rec-1496-org    cleveland      2119    sa      19560409     1804974  \n",
       "rec-552-dup-3     marsden      3165   nsw      19080419     6089216  \n",
       "rec-988-dup-1   granville      4881   nsw      19081128     2185997  \n",
       "rec-1716-dup-1   utakarra      2193    wa      19921119     4314184  \n",
       "rec-1213-org          NaN      4220   nsw      19991207     9144092  "
      ]
     },
     "execution_count": 24,
     "metadata": {},
     "output_type": "execute_result"
    }
   ],
   "source": [
    "# file to deduplicate\n",
    "IMPORT_FILE_TO_DEDUPLICATE = './data/dataset_febrl3.csv'\n",
    "#df_a = pd.read_csv(IMPORT_FILE_TO_DEDUPLICATE)\n",
    "df_a = pd.read_csv(IMPORT_FILE_TO_DEDUPLICATE,\n",
    "                    index_col=\"rec_id\",\n",
    "                    sep=\",\",\n",
    "                    engine='c',\n",
    "                    skipinitialspace=True,\n",
    "                    encoding='utf-8',\n",
    "                    parse_dates=[\"date_of_birth\"])\n",
    "#df_a = df_a.set_index('rec_id')\n",
    "\n",
    "print(\"Total number of records:\", len(df_a))\n",
    "#df_a.sort_values('surname').head()\n",
    "df_a.head()"
   ]
  },
  {
   "cell_type": "markdown",
   "metadata": {},
   "source": [
    "## Create a function for preprocessing"
   ]
  },
  {
   "cell_type": "code",
   "execution_count": 27,
   "metadata": {},
   "outputs": [
    {
     "data": {
      "text/plain": [
       "<bound method DataFrame.info of                given_name    surname            address_1  \\\n",
       "rec_id                                                      \n",
       "rec-1496-org     mitchell      green        wallaby place   \n",
       "rec-552-dup-3      harley   mccarthy        pridhamstreet   \n",
       "rec-988-dup-1    madeline      mason      hoseason street   \n",
       "rec-1716-dup-1   isabelle        NaN        gundulu place   \n",
       "rec-1213-org       taylor   hathaway       yuranigh court   \n",
       "...                   ...        ...                  ...   \n",
       "rec-937-org          jack   campbell          marr street   \n",
       "rec-1200-dup-0    william   lazaroff           leah ylose   \n",
       "rec-1756-org     destynii   bowerman     halford crescent   \n",
       "rec-1444-org       gianni     dooley    ashburton circuit   \n",
       "rec-993-dup-0        jake  westbrook  booroondar a street   \n",
       "\n",
       "                             address_2          suburb  postcode state  \\\n",
       "rec_id                                                                   \n",
       "rec-1496-org                    delmar       cleveland      2119    sa   \n",
       "rec-552-dup-3                   milton         marsden      3165   nsw   \n",
       "rec-988-dup-1   lakefront retrmnt vlge       granville      4881   nsw   \n",
       "rec-1716-dup-1               currin ga        utakarra      2193    wa   \n",
       "rec-1213-org            brentwood vlge             NaN      4220   nsw   \n",
       "...                                ...             ...       ...   ...   \n",
       "rec-937-org                   rhosewyn        oakleigh      3356   vic   \n",
       "rec-1200-dup-0                milwlood          forbes      7256   qld   \n",
       "rec-1756-org                    sutton       nollamara      2431   qld   \n",
       "rec-1444-org            brentwood vlge            ryde      6025   qld   \n",
       "rec-993-dup-0                  jodayne  salisbury east      2074   nsw   \n",
       "\n",
       "               date_of_birth  soc_sec_id  YearB  MonthB  DayB  \\\n",
       "rec_id                                                          \n",
       "rec-1496-org      1956-04-09     1804974   1956       4     9   \n",
       "rec-552-dup-3     1908-04-19     6089216   1908       4    19   \n",
       "rec-988-dup-1     1908-11-28     2185997   1908      11    28   \n",
       "rec-1716-dup-1    1992-11-19     4314184   1992      11    19   \n",
       "rec-1213-org      1999-12-07     9144092   1999      12     7   \n",
       "...                      ...         ...    ...     ...   ...   \n",
       "rec-937-org       1977-01-09     1485686   1977       1     9   \n",
       "rec-1200-dup-0           NaT     8072193   <NA>    <NA>  <NA>   \n",
       "rec-1756-org      1988-08-21     6089424   1988       8    21   \n",
       "rec-1444-org      1937-12-12     5854405   1937      12    12   \n",
       "rec-993-dup-0     1900-11-15     2330929   1900      11    15   \n",
       "\n",
       "               metaphone_given_name metaphone_surname  \n",
       "rec_id                                                 \n",
       "rec-1496-org                    MXL               KRN  \n",
       "rec-552-dup-3                   HRL             MKKR0  \n",
       "rec-988-dup-1                  MTLN               MSN  \n",
       "rec-1716-dup-1                 ISBL               NaN  \n",
       "rec-1213-org                    TLR               H0W  \n",
       "...                             ...               ...  \n",
       "rec-937-org                      JK             KMPBL  \n",
       "rec-1200-dup-0                  WLM              LSRF  \n",
       "rec-1756-org                   TSTN             BWRMN  \n",
       "rec-1444-org                     JN                TL  \n",
       "rec-993-dup-0                    JK            WSTBRK  \n",
       "\n",
       "[5000 rows x 14 columns]>"
      ]
     },
     "execution_count": 27,
     "metadata": {},
     "output_type": "execute_result"
    }
   ],
   "source": [
    "def _preprocessing(df_a):\n",
    "    df_a = df_a.copy()\n",
    "    df_a['given_name'] = clean(df_a['given_name'])\n",
    "    df_a['surname'] = clean(df_a['surname'])\n",
    "    df_a['date_of_birth'] = pd.to_datetime(df_a['date_of_birth'],format='%Y%m%d', errors='coerce')\n",
    "    df_a['YearB'] = df_a['date_of_birth'].dt.year.astype('Int64') \n",
    "    df_a['MonthB'] = df_a['date_of_birth'].dt.month.astype('Int64') \n",
    "    df_a['DayB'] = df_a['date_of_birth'].dt.day.astype('Int64')  \n",
    "    df_a['metaphone_given_name'] = phonetic(df_a['given_name'], method='metaphone')\n",
    "    df_a['metaphone_surname'] = phonetic(df_a['surname'], method='metaphone')  \n",
    "    \n",
    "    return df_a\n",
    "\n",
    "df_a= _preprocessing(df_a)\n",
    "df_a.info"
   ]
  },
  {
   "cell_type": "markdown",
   "metadata": {},
   "source": [
    "## Create a function for blokcing "
   ]
  },
  {
   "cell_type": "code",
   "execution_count": 36,
   "metadata": {},
   "outputs": [
    {
     "name": "stdout",
     "output_type": "stream",
     "text": [
      "rec_id_1    object\n",
      "rec_id_2    object\n",
      "dtype: object\n",
      "Number of candidate record pairs : 12873\n"
     ]
    }
   ],
   "source": [
    "###### Blocking\n",
    "def _blocking(df_a):\n",
    "    df_a = df_a.copy()\n",
    "    indexer = rl.Index()\n",
    "    # soundex firstname, methapone surname, exact date of birth\n",
    "    indexer.add(Block(['metaphone_given_name','metaphone_surname','date_of_birth']))\n",
    "    # soundex firstname , day of birth\n",
    "    indexer.add(Block(['metaphone_given_name','DayB']))\n",
    "    #soundex firstname , month of birth\n",
    "    indexer.add(Block(['metaphone_given_name','MonthB']))\n",
    "    # metaphone surname, year of birth \n",
    "    indexer.add(Block(['metaphone_surname','YearB']))\n",
    "    # ssn\n",
    "    indexer.add(Block(['soc_sec_id']))\n",
    "\n",
    "    candidate_record_pairs = indexer.index(df_a)\n",
    "\n",
    "    return candidate_record_pairs\n",
    "\n",
    "candidate_record_pairs =_blocking(df_a)\n",
    "print(candidate_record_pairs.dtypes)\n",
    "print(\"Number of candidate record pairs :\", len(candidate_record_pairs))"
   ]
  },
  {
   "cell_type": "code",
   "execution_count": 32,
   "metadata": {},
   "outputs": [
    {
     "name": "stdout",
     "output_type": "stream",
     "text": [
      "MultiIndex([(   'rec-0-org',   'rec-1023-org'),\n",
      "            (   'rec-0-org', 'rec-1540-dup-1'),\n",
      "            (   'rec-1-org',   'rec-1643-org'),\n",
      "            (   'rec-1-org',   'rec-1986-org'),\n",
      "            (   'rec-1-org',     'rec-41-org'),\n",
      "            ('rec-10-dup-0',   'rec-10-dup-2'),\n",
      "            ('rec-10-dup-1',   'rec-10-dup-0'),\n",
      "            ('rec-10-dup-1',   'rec-10-dup-2'),\n",
      "            (  'rec-10-org',   'rec-10-dup-0'),\n",
      "            (  'rec-10-org',   'rec-10-dup-1'),\n",
      "            ...\n",
      "            ( 'rec-998-org', 'rec-1207-dup-2'),\n",
      "            ( 'rec-998-org', 'rec-1207-dup-3'),\n",
      "            ( 'rec-998-org',   'rec-1207-org'),\n",
      "            ( 'rec-998-org',   'rec-1530-org'),\n",
      "            ( 'rec-998-org', 'rec-1727-dup-0'),\n",
      "            ( 'rec-998-org', 'rec-1727-dup-2'),\n",
      "            ( 'rec-998-org',   'rec-1727-org'),\n",
      "            ( 'rec-998-org', 'rec-1758-dup-0'),\n",
      "            ( 'rec-998-org', 'rec-1758-dup-1'),\n",
      "            ( 'rec-998-org',   'rec-1758-org')],\n",
      "           names=['rec_id_1', 'rec_id_2'], length=12873)\n"
     ]
    }
   ],
   "source": [
    "print(candidate_record_pairs)"
   ]
  },
  {
   "cell_type": "markdown",
   "metadata": {},
   "source": [
    "## Create a function for comparison"
   ]
  },
  {
   "cell_type": "code",
   "execution_count": 34,
   "metadata": {},
   "outputs": [
    {
     "name": "stdout",
     "output_type": "stream",
     "text": [
      "                            given_name   surname  date_of_birth  soc_sec_id  \\\n",
      "rec_id_1    rec_id_2                                                          \n",
      "rec-0-org   rec-1023-org      0.822222  0.000000              0           0   \n",
      "            rec-1540-dup-1    0.633333  0.666667              0           0   \n",
      "rec-1-org   rec-1643-org      0.791111  0.555556              0           0   \n",
      "            rec-1986-org      1.000000  0.555556              0           0   \n",
      "            rec-41-org        0.455556  0.760000              0           0   \n",
      "...                                ...       ...            ...         ...   \n",
      "rec-998-org rec-1727-dup-2    1.000000  0.422619              0           0   \n",
      "            rec-1727-org      1.000000  0.422619              0           0   \n",
      "            rec-1758-dup-0    1.000000  0.000000              0           0   \n",
      "            rec-1758-dup-1    1.000000  0.447619              0           0   \n",
      "            rec-1758-org      1.000000  0.447619              0           0   \n",
      "\n",
      "                            address_1  address_2    suburb  postcode  state  \n",
      "rec_id_1    rec_id_2                                                         \n",
      "rec-0-org   rec-1023-org     0.615385   0.142857  0.133333         0      0  \n",
      "            rec-1540-dup-1   0.529412   0.142857  0.133333         0      1  \n",
      "rec-1-org   rec-1643-org     0.250000   0.000000  0.000000         0      0  \n",
      "            rec-1986-org     0.312500   0.000000  0.142857         0      0  \n",
      "            rec-41-org       0.312500   0.000000  0.000000         0      0  \n",
      "...                               ...        ...       ...       ...    ...  \n",
      "rec-998-org rec-1727-dup-2   0.437500   0.000000  0.100000         0      0  \n",
      "            rec-1727-org     0.437500   0.000000  0.100000         0      0  \n",
      "            rec-1758-dup-0   0.350000   0.000000  0.200000         0      0  \n",
      "            rec-1758-dup-1   0.315789   0.000000  0.100000         0      0  \n",
      "            rec-1758-org     0.315789   0.000000  0.200000         0      0  \n",
      "\n",
      "[12873 rows x 9 columns]\n"
     ]
    }
   ],
   "source": [
    "\n",
    "########## Comparison\n",
    "def _comparaison(candidate_record_pairs):  \n",
    "    df_candidates = candidate_record_pairs.copy() \n",
    "    compare_cl = rl.Compare() \n",
    "    compare_cl.string('given_name', 'given_name', method='jarowinkler', label='given_name')  \n",
    "    compare_cl.string('surname', 'surname', method='jarowinkler',label='surname')  \n",
    "    compare_cl.exact('date_of_birth', 'date_of_birth', label='date_of_birth')  \n",
    "    compare_cl.exact('soc_sec_id', 'soc_sec_id', label='soc_sec_id')  \n",
    "    compare_cl.string('address_1', 'address_1', method ='levenshtein' , label='address_1')\n",
    "    compare_cl.string('address_2', 'address_2', method ='levenshtein' , label='address_2')  \n",
    "    compare_cl.string('suburb', 'suburb', method ='levenshtein', label='suburb')\n",
    "    compare_cl.exact('postcode', 'postcode', label='postcode')\n",
    "    compare_cl.exact('state', 'state', label='state')\n",
    "    features = compare_cl.compute(df_candidates, df_a)\n",
    "    \n",
    "    return features\n",
    "\n",
    "\n",
    "features = _comparaison(candidate_record_pairs)\n",
    "print(features)"
   ]
  },
  {
   "cell_type": "markdown",
   "metadata": {},
   "source": [
    "## Classification"
   ]
  },
  {
   "cell_type": "markdown",
   "metadata": {},
   "source": [
    "### An example of simple score-based matching : Similarity Sum (SimSum)"
   ]
  },
  {
   "cell_type": "code",
   "execution_count": 33,
   "metadata": {},
   "outputs": [
    {
     "name": "stdout",
     "output_type": "stream",
     "text": [
      "rec_id_1     rec_id_2      \n",
      "rec-0-org    rec-1023-org      1.713797\n",
      "             rec-1540-dup-1    3.105602\n",
      "rec-1-org    rec-1643-org      1.596667\n",
      "             rec-1986-org      2.010913\n",
      "             rec-41-org        1.528056\n",
      "                                 ...   \n",
      "rec-998-org  rec-1727-dup-2    1.960119\n",
      "             rec-1727-org      1.960119\n",
      "             rec-1758-dup-0    1.550000\n",
      "             rec-1758-dup-1    1.863409\n",
      "             rec-1758-org      1.963409\n",
      "Name: score, Length: 12873, dtype: float64\n",
      "Number of matches with simsum  is : 6268 using a threshold of 4.\n"
     ]
    }
   ],
   "source": [
    "\n",
    "def simSum(features, threshold):\n",
    "    df_f = features.copy()\n",
    "    df_f['score'] = features.sum(axis=1)\n",
    "    print( df_f['score'])\n",
    "    #threshold or score based classification\n",
    "    matches = df_f[df_f['score'] >=threshold]\n",
    "    \n",
    "    return matches, df_f\n",
    "\n",
    "threshold = 4\n",
    "match , df_features = simSum(features,4)\n",
    "print(\"Number of matches with simsum  is : {} using a threshold of {}.\".format(len(match),threshold))"
   ]
  },
  {
   "cell_type": "markdown",
   "metadata": {},
   "source": [
    "### Histogram of similarity sum score"
   ]
  },
  {
   "cell_type": "code",
   "execution_count": 8,
   "metadata": {},
   "outputs": [
    {
     "data": {
      "text/plain": [
       "<Axes: >"
      ]
     },
     "execution_count": 8,
     "metadata": {},
     "output_type": "execute_result"
    },
    {
     "data": {
      "image/png": "[encoded data removed]",
      "text/plain": [
       "<Figure size 640x480 with 1 Axes>"
      ]
     },
     "metadata": {},
     "output_type": "display_data"
    }
   ],
   "source": [
    "df_features['score'].hist(bins=100)"
   ]
  },
  {
   "cell_type": "markdown",
   "metadata": {},
   "source": [
    "### An example of weighted average score-based matching"
   ]
  },
  {
   "cell_type": "code",
   "execution_count": 9,
   "metadata": {},
   "outputs": [
    {
     "name": "stdout",
     "output_type": "stream",
     "text": [
      "Number of matches with weighted average  is : 6289 using a threshold of 0.4.\n"
     ]
    }
   ],
   "source": [
    "#https://www.wikihow.com/Calculate-Weighted-Average\n",
    "from functools import reduce\n",
    "weigth_factor = {'given_name':2,\n",
    "                 'surname':2, \n",
    "                 'date_of_birth':1,\n",
    "                 'soc_sec_id':3,\n",
    "                 'address_1':1,\n",
    "                 'address_2':1,\n",
    "                 'suburb':1,\n",
    "                 'postcode':1,\n",
    "                 'state':1}\n",
    "\n",
    "def _weighted_average_classifier(features,threshold,weigth_factor):\n",
    "    \n",
    "    df_score = features.copy()\n",
    "    weighted_list =[]\n",
    "    factor_sum = 0\n",
    "    for col,wf in weigth_factor.items():\n",
    "        weighted_list.append(df_score[col]*wf)\n",
    "        factor_sum += wf\n",
    "    weighted_sum = reduce(lambda x, y: x.add(y, fill_value=0), weighted_list)\n",
    "    df_score['score'] = weighted_sum/factor_sum\n",
    "    matches = df_score[df_score['score'] >=threshold]\n",
    "    \n",
    "    return matches,df_score\n",
    "\n",
    "threshold = 0.4\n",
    "wa_matches, wa_df_score= _weighted_average_classifier(features,threshold,weigth_factor)\n",
    "print(\"Number of matches with weighted average  is : {} using a threshold of {}.\".format(len(wa_matches),threshold))"
   ]
  },
  {
   "cell_type": "markdown",
   "metadata": {},
   "source": [
    "### Histogram of weighted score"
   ]
  },
  {
   "cell_type": "code",
   "execution_count": 10,
   "metadata": {},
   "outputs": [
    {
     "data": {
      "text/plain": [
       "<Axes: >"
      ]
     },
     "execution_count": 10,
     "metadata": {},
     "output_type": "execute_result"
    },
    {
     "data": {
      "image/png": "[encoded data removed]",
      "text/plain": [
       "<Figure size 640x480 with 1 Axes>"
      ]
     },
     "metadata": {},
     "output_type": "display_data"
    }
   ],
   "source": [
    "wa_df_score['score'].hist(bins=100)"
   ]
  },
  {
   "cell_type": "markdown",
   "metadata": {},
   "source": [
    "## Evaluation"
   ]
  },
  {
   "cell_type": "code",
   "execution_count": 11,
   "metadata": {},
   "outputs": [
    {
     "data": {
      "text/html": [
       "<div>\n",
       "<style scoped>\n",
       "    .dataframe tbody tr th:only-of-type {\n",
       "        vertical-align: middle;\n",
       "    }\n",
       "\n",
       "    .dataframe tbody tr th {\n",
       "        vertical-align: top;\n",
       "    }\n",
       "\n",
       "    .dataframe thead th {\n",
       "        text-align: right;\n",
       "    }\n",
       "</style>\n",
       "<table border=\"1\" class=\"dataframe\">\n",
       "  <thead>\n",
       "    <tr style=\"text-align: right;\">\n",
       "      <th></th>\n",
       "      <th></th>\n",
       "    </tr>\n",
       "    <tr>\n",
       "      <th>rec_id_1</th>\n",
       "      <th>rec_id_2</th>\n",
       "    </tr>\n",
       "  </thead>\n",
       "  <tbody>\n",
       "    <tr>\n",
       "      <th>rec-552-dup-1</th>\n",
       "      <th>rec-552-dup-3</th>\n",
       "    </tr>\n",
       "    <tr>\n",
       "      <th rowspan=\"2\" valign=\"top\">rec-552-dup-0</th>\n",
       "      <th>rec-552-dup-3</th>\n",
       "    </tr>\n",
       "    <tr>\n",
       "      <th>rec-552-dup-1</th>\n",
       "    </tr>\n",
       "    <tr>\n",
       "      <th rowspan=\"2\" valign=\"top\">rec-552-org</th>\n",
       "      <th>rec-552-dup-3</th>\n",
       "    </tr>\n",
       "    <tr>\n",
       "      <th>rec-552-dup-1</th>\n",
       "    </tr>\n",
       "  </tbody>\n",
       "</table>\n",
       "</div>"
      ],
      "text/plain": [
       "Empty DataFrame\n",
       "Columns: []\n",
       "Index: [(rec-552-dup-1, rec-552-dup-3), (rec-552-dup-0, rec-552-dup-3), (rec-552-dup-0, rec-552-dup-1), (rec-552-org, rec-552-dup-3), (rec-552-org, rec-552-dup-1)]"
      ]
     },
     "execution_count": 11,
     "metadata": {},
     "output_type": "execute_result"
    }
   ],
   "source": [
    "# gold_ standard or known truth\n",
    "IMPORT_FILE_GOLD_STANDARD = './data/dataset_febrl3_true_links.csv'\n",
    "df_true_links = pd.read_csv(IMPORT_FILE_GOLD_STANDARD)\n",
    "df_true_links.set_index(['rec_id_1','rec_id_2'],inplace=True)\n",
    "df_true_links.head()"
   ]
  },
  {
   "cell_type": "markdown",
   "metadata": {},
   "source": [
    "### Create function to caculate metrics"
   ]
  },
  {
   "cell_type": "code",
   "execution_count": 12,
   "metadata": {},
   "outputs": [],
   "source": [
    "def metrics(links_true,links_pred,pairs):\n",
    "    if len(links_pred) > 0 :\n",
    "        matrix  = rl.confusion_matrix(links_true, links_pred, len(pairs))\n",
    "            \n",
    "        # precision\n",
    "        precision  = rl.precision(links_true, links_pred)\n",
    "\n",
    "         #precision\n",
    "        recall  = rl.recall(links_true, links_pred)\n",
    "\n",
    "        # The F-score for this classification is\n",
    "        fscore = rl.fscore(links_true,links_pred)\n",
    "        \n",
    "        return {'precision':precision, 'recall':recall,'fscore':fscore}\n",
    "    else :\n",
    "        return {'precision':0, 'recall':0,'fscore':0}"
   ]
  },
  {
   "cell_type": "markdown",
   "metadata": {},
   "source": [
    "### Create Function to Print Results"
   ]
  },
  {
   "cell_type": "code",
   "execution_count": 15,
   "metadata": {},
   "outputs": [],
   "source": [
    "## Create Function to Print Results\n",
    "def get_results(metrics):\n",
    "    print(\"\\n{0:20}    {1:6}    {2:6}    {3:6}\".format('Matching ','Precision','Recall','Fscore'))\n",
    "    print('------------------------------------------------------')\n",
    "    for i in metrics.keys():\n",
    "        print(\"{0:20}    {1:<6.4}      {2:<6.4}      {3:<6.4}\".format(i,metrics[i]['precision'],\n",
    "                                                                      metrics[i]['recall'],\n",
    "                                                                      metrics[i]['fscore']))"
   ]
  },
  {
   "cell_type": "markdown",
   "metadata": {},
   "source": [
    "### Calculate quality metrics"
   ]
  },
  {
   "cell_type": "code",
   "execution_count": 16,
   "metadata": {},
   "outputs": [],
   "source": [
    "results_score = {}\n",
    "\n",
    "results_score['SimSum'] =  metrics(df_true_links,match,features)\n",
    "results_score['WeightedAverage'] = metrics(df_true_links,wa_matches,features)"
   ]
  },
  {
   "cell_type": "markdown",
   "metadata": {},
   "source": [
    "### Evaluation results"
   ]
  },
  {
   "cell_type": "code",
   "execution_count": 39,
   "metadata": {},
   "outputs": [
    {
     "name": "stdout",
     "output_type": "stream",
     "text": [
      "\n",
      "Matching                Precision    Recall    Fscore\n",
      "------------------------------------------------------\n",
      "SimSum                  1.0         0.9587      0.9789\n",
      "WeightedAverage         0.9983      0.9602      0.9789\n"
     ]
    }
   ],
   "source": [
    "get_results(results_score)"
   ]
  }
 ],
 "metadata": {
  "kernelspec": {
   "display_name": "Python 3",
   "language": "python",
   "name": "python3"
  },
  "language_info": {
   "codemirror_mode": {
    "name": "ipython",
    "version": 3
   },
   "file_extension": ".py",
   "mimetype": "text/x-python",
   "name": "python",
   "nbconvert_exporter": "python",
   "pygments_lexer": "ipython3",
   "version": "3.8.10"
  }
 },
 "nbformat": 4,
 "nbformat_minor": 4
}
